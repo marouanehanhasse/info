{
 "cells": [
  {
   "cell_type": "code",
   "execution_count": 1,
   "metadata": {},
   "outputs": [
    {
     "data": {
      "text/plain": [
       "scan_maker (generic function with 1 method)"
      ]
     },
     "execution_count": 1,
     "metadata": {},
     "output_type": "execute_result"
    }
   ],
   "source": [
    "using JuMP\n",
    "function scan_maker(A)\n",
    "    \n",
    "    m = Model(solver=ClpSolver(PrimalTolerance=1e-3, DualTolerance=1e-3, InfeasibleReturn=1, PresolveType=1))\n",
    "    # m = Model(solver=GurobiSolver())\n",
    "    level = size(A, 2)\n",
    "    v = zeros(Int, level)\n",
    "    ub = zeros(Int, level)\n",
    "    lb = zeros(Int, level)\n",
    "\n",
    "    @variable(m, x[1:level])\n",
    "    @constraint(m, con, A*x.>=0)\n",
    "\n",
    "    function setc(c)\n",
    "        for i = 1:size(A, 1)\n",
    "            m.linconstr[i].lb = float(c[i])\n",
    "        end\n",
    "    end\n",
    "    \n",
    "    function scan()\n",
    "        i = 1\n",
    "        init = 1\n",
    "        while i > 0\n",
    "            if i >= init\n",
    "                @objective(m, Max, x[i])\n",
    "                res = JuMP.solve(m, suppress_warnings=true)\n",
    "                if res==:Optimal || res==:Unbounded\n",
    "                    ub[i] = round(Int, getvalue(x[i]))\n",
    "                    setobjectivesense(m, :Min)\n",
    "                    res = JuMP.solve(m, suppress_warnings=true)\n",
    "                    @assert res==:Optimal || res==:Unbounded\n",
    "                    lb[i] = round(Int, getvalue(x[i]))\n",
    "\n",
    "                    v[i] = lb[i]\n",
    "                    init += 1\n",
    "                else\n",
    "                    @assert res==:Infeasible\n",
    "                    i -= 1\n",
    "                    continue\n",
    "                end\n",
    "            elseif v[i] < ub[i]\n",
    "                v[i] += 1\n",
    "            else\n",
    "                setupperbound(x[i], Inf)\n",
    "                setlowerbound(x[i], -Inf)\n",
    "                init -= 1\n",
    "                i -= 1\n",
    "                continue\n",
    "            end\n",
    "\n",
    "            if i >= level\n",
    "                produce(v)\n",
    "                continue\n",
    "            else\n",
    "                setupperbound(x[i], v[i])\n",
    "                setlowerbound(x[i], v[i])\n",
    "                i += 1\n",
    "            end\n",
    "        end\n",
    "    end\n",
    "    \n",
    "    return setc, scan\n",
    "end"
   ]
  },
  {
   "cell_type": "code",
   "execution_count": null,
   "metadata": {},
   "outputs": [],
   "source": []
  }
 ],
 "metadata": {
  "kernelspec": {
   "display_name": "Julia 0.7.0",
   "language": "julia",
   "name": "julia-0.7"
  },
  "language_info": {
   "file_extension": ".jl",
   "mimetype": "application/julia",
   "name": "julia",
   "version": "0.7.0"
  }
 },
 "nbformat": 4,
 "nbformat_minor": 2
}
