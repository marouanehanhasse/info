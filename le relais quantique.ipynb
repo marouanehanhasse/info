{
 "cells": [
  {
   "cell_type": "code",
   "execution_count": 5,
   "metadata": {},
   "outputs": [
    {
     "name": "stderr",
     "output_type": "stream",
     "text": [
      "WARNING: replacing module QuantumRelay.\n"
     ]
    },
    {
     "ename": "ArgumentError",
     "evalue": "ArgumentError: Package PolyLib not found in current path:\n- Run `Pkg.add(\"PolyLib\")` to install the PolyLib package.\n",
     "output_type": "error",
     "traceback": [
      "ArgumentError: Package PolyLib not found in current path:\n- Run `Pkg.add(\"PolyLib\")` to install the PolyLib package.\n",
      "",
      "Stacktrace:",
      " [1] require(::Module, ::Symbol) at ./loading.jl:817"
     ]
    }
   ],
   "source": [
    "module QuantumRelay\n",
    "\n",
    "using SymPy\n",
    "using Iterators\n",
    "using PolyLib\n",
    "using JuMP\n",
    "using Clp\n",
    "using LLLplus\n",
    "using GSL\n",
    "using PyPlot\n",
    "using Lora\n",
    "using Distributions\n",
    "\n",
    "export\n",
    "\tqrelay_op,\n",
    "\top_mat,\n",
    "\tscan_maker,\n",
    "\tQRelaySampler\n",
    "\n",
    "include(\"utility.jl\")\n",
    "include(\"operateurs.jl\")\n",
    "include(\"scanner.jl\")\n",
    "include(\"distributions.jl\")\n",
    "\n",
    "mutable struct QRelaySampler\n",
    "\tprob::Function #return the probablility\n",
    "\tpsetproposal::Function #return next combination of sample\n",
    "\n",
    "    #input parameters:\n",
    "    #mat: the matrix p_ij in the note (10)\n",
    "    #coef: the coefficient c in the note (10)\n",
    "    #omega: the coefficient A in the note (10)\n",
    "    #pdet0: the probability of detection for each detector\n",
    "\tfunction QRelaySampler{T<:Int}(mat::Array{T, 2}, coef, omega, pdet0)\n",
    "\t\tU, S, V = PolyLib.smith_normal_form(mat) #note (18)\n",
    "        #the PolyLib returns P=USV. Inverse the matrices so Ui/Vi is the same as U/V in the note (18)\n",
    "\t\tUi = PolyLib.inverse(U) \n",
    "\t\tVi = PolyLib.inverse(V)\n",
    "\t\ts = diag(S)\n",
    "\t\tr = countnz(s)\n",
    "\t\ts0 = s[1:r]\n",
    "\t\t@assert s0 == ones(r)\n",
    "\t\tui1 = Ui[1:r, :]\n",
    "\t\tui2 = Ui[r+1:end, :]\n",
    "\t\tvi1 = Vi[:, 1:r]\n",
    "\t\tvi2 = Vi[:, r+1:end]\n",
    "\t\tvi2 = lll(vi2)[1] #Lenstra–Lenstra–Lovász lattice basis reduction\n",
    "\t\tT0 = vi1*ui1\n",
    "\t\tui2oc = orthocomp(ui2) #orhogonal complement\n",
    "\t\tsetc, scan = scan_maker(vi2) #make the scanner for the algorithm1 in the note\n",
    "        \n",
    "        #compute the probability for an ideal system\n",
    "        #na: the photon numbers in a output mode\n",
    "\t\tfunction prob(na)\n",
    "\t\t    @assert countnz(ui2*na) == 0\n",
    "\t\t    b = T0*na\n",
    "\t\t    setc(-b)\n",
    "\t\t    total = 0.0\n",
    "\t\t    for x in Task(scan)\n",
    "\t\t        nab = vi2*x + b #the photon numbers for each item in the sum in the note (10)\n",
    "\t\t        total += prod([c.^complex(n)/factorial(n) for (c, n) in zip(coef, nab)])\n",
    "\t\t    end\n",
    "\t\t    return abs(total*omega)^2\n",
    "\t\tend\n",
    "\n",
    "        #compute the probability of detection\n",
    "        #q: the number of photons detectors report\n",
    "        #na: the number of photons arrived at detector\n",
    "        #mask: if there is no detector in this channel, mask=0\n",
    "\t\tfunction prob(q, na, mask)\n",
    "\t\t    q0 = round(Int, q.>0)\n",
    "\t\t    m0 = round(Int, mask)\n",
    "\t\t    return prod((q0 + (1-2q0).*pdet0(na)).^m0)\n",
    "\t\tend\n",
    "\n",
    "\t\tpsetproposal(x::Vector) = QuantumRelay.OrthoNNDist(x, ui2oc)\n",
    "\n",
    "\t\tnew(prob, psetproposal)\n",
    "\tend\n",
    "end\n",
    "\n",
    "end\n"
   ]
  },
  {
   "cell_type": "code",
   "execution_count": null,
   "metadata": {},
   "outputs": [],
   "source": []
  },
  {
   "cell_type": "code",
   "execution_count": null,
   "metadata": {},
   "outputs": [],
   "source": []
  }
 ],
 "metadata": {
  "kernelspec": {
   "display_name": "Julia 0.7.0",
   "language": "julia",
   "name": "julia-0.7"
  },
  "language_info": {
   "file_extension": ".jl",
   "mimetype": "application/julia",
   "name": "julia",
   "version": "0.7.0"
  }
 },
 "nbformat": 4,
 "nbformat_minor": 2
}
