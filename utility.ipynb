{
 "cells": [
  {
   "cell_type": "code",
   "execution_count": 1,
   "metadata": {},
   "outputs": [
    {
     "data": {
      "text/plain": [
       "bin2 (generic function with 1 method)"
      ]
     },
     "execution_count": 1,
     "metadata": {},
     "output_type": "execute_result"
    }
   ],
   "source": [
    "export\n",
    "    orthocomp,\n",
    "    pdet_maker,\n",
    "    bin2\n",
    "\n",
    "#find the orthogonal complemenet of m\n",
    "function orthocomp(m)\n",
    "    U, S, V = PolyLib.smith_normal_form(m)\n",
    "    return lll(PolyLib.inverse(V)[:, size(m)[1]+1:end])[1]\n",
    "end\n",
    "\n",
    "nonneg(v) = all(v.>=0) ? true : false\n",
    "\n",
    "function unequal_sample_maker(p)\n",
    "    perm = sortperm(p, rev=true)\n",
    "    p0 = p[perm]\n",
    "    for i=1:length(p0)-1\n",
    "        p0[i+1] += p0[i]\n",
    "    end\n",
    "\n",
    "    function sample()\n",
    "        r = rand()\n",
    "        for i=1:length(p0)\n",
    "            if r < p0[i]\n",
    "                return perm[i]\n",
    "            end\n",
    "        end\n",
    "    end\n",
    "end\n",
    "\n",
    "#generate the detection probability for detectors with transmittance eta and dark count probability pdc\n",
    "function pdet_maker(eta, pdc)\n",
    "    a = 1 - pdc\n",
    "    b = 1 - eta.*a\n",
    "    function pdet0(i)\n",
    "        return a .* b.^i\n",
    "    end\n",
    "    return pdet0\n",
    "end\n",
    "\n",
    "function bin2(arr)\n",
    "    n1 = length(arr)\n",
    "    n2 = div(n1, 2)\n",
    "    arr2 = zeros(n2)\n",
    "    for i = 1:n2\n",
    "        arr2[i] = (arr[2i-1] + arr[2i]) / 2\n",
    "    end\n",
    "    return arr2\n",
    "end"
   ]
  },
  {
   "cell_type": "code",
   "execution_count": null,
   "metadata": {},
   "outputs": [],
   "source": []
  }
 ],
 "metadata": {
  "kernelspec": {
   "display_name": "Julia 0.7.0",
   "language": "julia",
   "name": "julia-0.7"
  },
  "language_info": {
   "file_extension": ".jl",
   "mimetype": "application/julia",
   "name": "julia",
   "version": "0.7.0"
  }
 },
 "nbformat": 4,
 "nbformat_minor": 2
}
