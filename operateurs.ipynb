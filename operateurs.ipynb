{
 "cells": [
  {
   "cell_type": "code",
   "execution_count": 1,
   "metadata": {},
   "outputs": [
    {
     "data": {
      "text/plain": [
       "op_mat (generic function with 1 method)"
      ]
     },
     "execution_count": 1,
     "metadata": {},
     "output_type": "execute_result"
    }
   ],
   "source": [
    "mutable struct QRelaySym{T<:Tuple}\n",
    "    aH::T\n",
    "    bH::T\n",
    "    aV::T\n",
    "    bV::T\n",
    "    apH::T\n",
    "    bpH::T\n",
    "    apV::T\n",
    "    bpV::T\n",
    "end\n",
    "\n",
    "\n",
    "function trans(op, a, b, ap, bp, B)\n",
    "    p = B * [ap; bp]\n",
    "    op = subs(op, a, p[1])\n",
    "    op = subs(op, b, p[2])\n",
    "    return op\n",
    "end\n",
    "\n",
    "#2D rotation matrix\n",
    "function rotmat(theta)\n",
    "    c = cos(theta)\n",
    "    s = sin(theta)\n",
    "    return [c s; -s c]\n",
    "end\n",
    "\n",
    "\n",
    "function qrelay_op(n, phi, alpha, delta)\n",
    "    #operators before BS\n",
    "    aH = symbols(printf(\"a_H1:%d\", n+1))\n",
    "    bH = symbols(printf(\"b_H1:%d\", n+1))\n",
    "    aV = symbols(printf(\"a_V1:%d\", n+1))\n",
    "    bV = symbols(printf(\"b_V1:%d\", n+1))\n",
    "    \n",
    "    op = 0\n",
    "    for i=1:n\n",
    "        op += phi[i] * (aH[i]*bH[i] + aV[i]*bV[i])\n",
    "    end\n",
    "\n",
    "    #beam splitter transformation\n",
    "    B = 1/sqrt(2)*[1 1;-1 1]\n",
    "    \n",
    "    #operators after beam splitter\n",
    "    apH = symbols(printf(\"a'_H1:%d\", n+1))\n",
    "    bpH = symbols(printf(\"b'_H1:%d\", n+1))\n",
    "    apV = symbols(printf(\"a'_V1:%d\", n+1))\n",
    "    bpV = symbols(printf(\"b'_V1:%d\", n+1))\n",
    "\n",
    "    for i=1:n-1\n",
    "        op = trans(op, bH[i], aH[i+1], bpH[i], apH[i+1], B)\n",
    "        op = trans(op, bV[i], aV[i+1], bpV[i], apV[i+1], B)\n",
    "    end\n",
    "\n",
    "    op = trans(op, aH[1], aV[1], apH[1], apV[1], rotmat(alpha))\n",
    "    op = trans(op, bH[n], bV[n], bpH[n], bpV[n], rotmat(delta))\n",
    "    \n",
    "    syms = QRelaySym(aH, bH, aV, bV, apH, bpH, apV, bpV)\n",
    "    \n",
    "    return syms, op\n",
    "end\n",
    "\n",
    "#compute matrix for operator\n",
    "function op_mat(op)\n",
    "    op = op[:as_poly](domain=\"C\")\n",
    "    op_a = op.x[:gens]\n",
    "    nab = op[:length]()\n",
    "    op_ab = ones(SymPy.Sym, nab)\n",
    "    coef = zeros(Complex, nab)\n",
    "    mat = zeros(Int64, length(op_a), nab)\n",
    "    for (i, (ps, c)) in enumerate(op[:as_dict]())\n",
    "        for (j, p) in enumerate(ps)\n",
    "            mat[j, i] = p\n",
    "            op_ab[i] = op_a[j]^p * op_ab[i]\n",
    "        end\n",
    "        coef[i] = c\n",
    "    end\n",
    "   \n",
    "    return op_a, op_ab, mat, coef\n",
    "end"
   ]
  },
  {
   "cell_type": "code",
   "execution_count": null,
   "metadata": {},
   "outputs": [],
   "source": []
  }
 ],
 "metadata": {
  "kernelspec": {
   "display_name": "Julia 0.7.0",
   "language": "julia",
   "name": "julia-0.7"
  },
  "language_info": {
   "file_extension": ".jl",
   "mimetype": "application/julia",
   "name": "julia",
   "version": "0.7.0"
  }
 },
 "nbformat": 4,
 "nbformat_minor": 2
}
