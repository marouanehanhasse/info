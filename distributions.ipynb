{
 "cells": [
  {
   "cell_type": "code",
   "execution_count": 1,
   "metadata": {},
   "outputs": [],
   "source": [
    "using Distributions\n",
    "struct OrthoNNDist <: DiscreteMultivariateDistribution\n",
    "\tx0::Vector{Int64}\n",
    "\toc::Array{Int64,2}\n",
    "\tx1s::Array\n",
    "\tprob::Float64\n",
    "    #return a new uniform distribution with all vectors in x1s orthogonal to oc\n",
    "\tfunction OrthoNNDist(x0::Vector{Int}, oc::Array{Int,2})\n",
    "\t\tx1s = []\n",
    "\t\tfor i = 1:size(oc)[2]\n",
    "\t\t\tx1 = x0 + oc[:, i]\n",
    "\t\t\tif nonneg(x1)\n",
    "\t\t\t\tpush!(x1s, x1)\n",
    "\t\t\tend\n",
    "\t\t\tx1 = x0 - oc[:, i]\n",
    "\t\t\tif nonneg(x1)\n",
    "\t\t\t\tpush!(x1s, x1)\n",
    "\t\t\tend\n",
    "\t\tend\n",
    "\t\tnew(x0, oc, x1s, 1.0/length(x1s))\n",
    "\tend\n",
    "end\n",
    "\n",
    "Base.length(d::OrthoNNDist) = length(d.x0)\n",
    "\n",
    "Distributions.rand(d::OrthoNNDist) = rand(d.x1s)\n",
    "\n",
    "Distributions.pdf(d::OrthoNNDist, x::Vector) = x in d.x1s ? d.prob : 0.0\n",
    "Distributions.pdf(d::OrthoNNDist) = fill(d.prob, size(d.x1s))\n",
    "Distributions.logpdf(d::OrthoNNDist, x::Vector) = log(pdf(d, x))"
   ]
  },
  {
   "cell_type": "code",
   "execution_count": null,
   "metadata": {},
   "outputs": [],
   "source": []
  },
  {
   "cell_type": "code",
   "execution_count": null,
   "metadata": {},
   "outputs": [],
   "source": []
  }
 ],
 "metadata": {
  "kernelspec": {
   "display_name": "Julia 0.7.0",
   "language": "julia",
   "name": "julia-0.7"
  },
  "language_info": {
   "file_extension": ".jl",
   "mimetype": "application/julia",
   "name": "julia",
   "version": "0.7.0"
  }
 },
 "nbformat": 4,
 "nbformat_minor": 2
}
